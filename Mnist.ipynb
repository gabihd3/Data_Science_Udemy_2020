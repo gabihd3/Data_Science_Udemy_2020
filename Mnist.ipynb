{
 "cells": [
  {
   "cell_type": "code",
   "execution_count": 227,
   "metadata": {},
   "outputs": [],
   "source": [
    "import numpy as np\n",
    "import tensorflow as tf\n",
    "import tensorflow_datasets as tfds #To import mnist dataset"
   ]
  },
  {
   "cell_type": "markdown",
   "metadata": {},
   "source": [
    "# Data"
   ]
  },
  {
   "cell_type": "code",
   "execution_count": 228,
   "metadata": {},
   "outputs": [
    {
     "name": "stderr",
     "output_type": "stream",
     "text": [
      "WARNING:absl:Warning: Setting shuffle_files=True because split=TRAIN and shuffle_files=None. This behavior will be deprecated on 2019-08-06, at which point shuffle_files=False will be the default for all splits.\n"
     ]
    }
   ],
   "source": [
    "mnist_dataset, mnist_info = tfds.load(name = 'mnist',with_info = True, as_supervised = True)\n",
    "# with_info=True provides us with a tuple which contains information about the version, features and number of samples\n",
    "# as_supervised=True loads the dataset in a 2-tuple structure (input, target) \n"
   ]
  },
  {
   "cell_type": "code",
   "execution_count": 229,
   "metadata": {},
   "outputs": [],
   "source": [
    "mnist_train,mnist_test = mnist_dataset['train'],mnist_dataset['test']\n",
    "\n",
    "# firstly we define the number of validation samples as a % of the train samples (10%)\n",
    "num_validation_samples = 0.1*mnist_info.splits['train'].num_examples\n",
    "num_validation_samples = tf.cast(num_validation_samples,tf.int64) #To ensure its an integer value\n",
    "\n",
    "# We also store the number of test samples in a variable\n",
    "num_test_samples = mnist_info.splits['train'].num_examples\n",
    "num_test_samples = tf.cast(num_test_samples,tf.int64) #Again, to ensure its an integer value\n",
    "\n",
    "def scale(image,label):\n",
    "    image = tf.cast(image,tf.float32) #Cast the tensor into a float\n",
    "    image = image/255. #Scale values between 0 and 1 that is why we divide by 255. The dot is because we want a float value\n",
    "    return image,label\n",
    "\n",
    "# the method .map() allows us to apply a custom transformation to a given dataset\n",
    "scaled_train_and_validation_data = mnist_train.map(scale) #.map(function \"scale\" defined above)\n",
    "test_data = mnist_test.map(scale)\n",
    "\n",
    "BUFFER_SIZE = 10000 #In order to shuffle in chunks size that we select\n",
    "\n",
    "shuffled_train_and_validation_data = scaled_train_and_validation_data.shuffle(BUFFER_SIZE)\n",
    "\n",
    "#we create a batch with a batch size equal to the total number of validation samples\n",
    "#.take() function returns elements from array along the mentioned axis and indices.\n",
    "validation_data = shuffled_train_and_validation_data.take(num_validation_samples)\n",
    "\n",
    "#similarly for the train_data...\n",
    "train_data = shuffled_train_and_validation_data.skip(num_validation_samples)\n",
    "\n",
    "\n",
    "BATCH_SIZE = 1000\n",
    "\n",
    "train_data = train_data.batch(BATCH_SIZE)\n",
    "validation_data = validation_data.batch(num_validation_samples) #a batch size 1\n",
    "test_data = test_data.batch(num_test_samples)\n",
    "\n",
    "# takes next batch (it is the only batch)\n",
    "# because as_supervized=True, we've got a 2-tuple structure\n",
    "validation_inputs, validation_targets = next(iter(validation_data))\n",
    "#next loads the next batch\n",
    "#iter creates an object which can be iterated one element at a time\n"
   ]
  },
  {
   "cell_type": "markdown",
   "metadata": {},
   "source": [
    "# Model"
   ]
  },
  {
   "cell_type": "code",
   "execution_count": 230,
   "metadata": {},
   "outputs": [],
   "source": [
    "input_size = 784\n",
    "output_size = 10\n",
    "hidden_layer_size = 500"
   ]
  },
  {
   "cell_type": "code",
   "execution_count": 231,
   "metadata": {},
   "outputs": [],
   "source": [
    "model = tf.keras.Sequential([\n",
    "    tf.keras.layers.Flatten(input_shape=(28,28,1)), \n",
    "    #Flatten converts our tensor (28x28x1) into a vector (784), being this our input layer.\n",
    "    \n",
    "    # tf.keras.layers.Dense is in essence: output = activation function(dot(input, weight) + bias)\n",
    "    tf.keras.layers.Dense(hidden_layer_size,activation = 'relu'),\n",
    "    tf.keras.layers.Dense(hidden_layer_size,activation = 'relu'),\n",
    "    tf.keras.layers.Dense(hidden_layer_size,activation = 'relu'),\n",
    "    tf.keras.layers.Dense(hidden_layer_size,activation = 'relu'),\n",
    "    tf.keras.layers.Dense(hidden_layer_size,activation = 'relu'),\n",
    "    tf.keras.layers.Dense(hidden_layer_size,activation = 'relu'),\n",
    "    tf.keras.layers.Dense(hidden_layer_size,activation = 'relu'),\n",
    "    tf.keras.layers.Dense(hidden_layer_size,activation = 'tanh'),\n",
    "    tf.keras.layers.Dense(output_size, activation = 'softmax')\n",
    "    \n",
    "])"
   ]
  },
  {
   "cell_type": "markdown",
   "metadata": {},
   "source": [
    "## Choose the optimizer and the loss function"
   ]
  },
  {
   "cell_type": "code",
   "execution_count": 232,
   "metadata": {},
   "outputs": [],
   "source": [
    "#custom_optimizer = tf.keras.optimizers.Adam(learning_rate=0.02)\n",
    "model.compile(optimizer ='adam',loss='sparse_categorical_crossentropy', metrics= ['accuracy']) #sparse... applies one-hot encoding"
   ]
  },
  {
   "cell_type": "markdown",
   "metadata": {},
   "source": [
    "# Training"
   ]
  },
  {
   "cell_type": "code",
   "execution_count": 233,
   "metadata": {
    "scrolled": true
   },
   "outputs": [
    {
     "name": "stdout",
     "output_type": "stream",
     "text": [
      "Epoch 1/5\n",
      "54/54 - 10s - loss: 0.5469 - accuracy: 0.8204 - val_loss: 0.1691 - val_accuracy: 0.9525\n",
      "Epoch 2/5\n",
      "54/54 - 9s - loss: 0.1260 - accuracy: 0.9616 - val_loss: 0.1148 - val_accuracy: 0.9655\n",
      "Epoch 3/5\n",
      "54/54 - 9s - loss: 0.0850 - accuracy: 0.9743 - val_loss: 0.0856 - val_accuracy: 0.9745\n",
      "Epoch 4/5\n",
      "54/54 - 9s - loss: 0.0615 - accuracy: 0.9808 - val_loss: 0.0713 - val_accuracy: 0.9780\n",
      "Epoch 5/5\n",
      "54/54 - 9s - loss: 0.0441 - accuracy: 0.9870 - val_loss: 0.0569 - val_accuracy: 0.9822\n"
     ]
    },
    {
     "data": {
      "text/plain": [
       "<tensorflow.python.keras.callbacks.History at 0x657d7b710>"
      ]
     },
     "execution_count": 233,
     "metadata": {},
     "output_type": "execute_result"
    }
   ],
   "source": [
    "NUM_EPOCHS = 5\n",
    "\n",
    "#Now we fit the model specifying the training data, the number of epochs and the validation data\n",
    "model.fit(train_data, epochs = NUM_EPOCHS, \n",
    "          validation_data =(validation_inputs,validation_targets),verbose = 2)"
   ]
  },
  {
   "cell_type": "markdown",
   "metadata": {},
   "source": [
    "# Model Test"
   ]
  },
  {
   "cell_type": "code",
   "execution_count": 234,
   "metadata": {},
   "outputs": [
    {
     "name": "stdout",
     "output_type": "stream",
     "text": [
      "1/1 [==============================] - 1s 1s/step - loss: 0.0949 - accuracy: 0.9741\n"
     ]
    }
   ],
   "source": [
    "test_loss,test_accuracy = model.evaluate(test_data)"
   ]
  },
  {
   "cell_type": "code",
   "execution_count": 235,
   "metadata": {},
   "outputs": [
    {
     "name": "stdout",
     "output_type": "stream",
     "text": [
      "Test loss:0.09. Test accuracy:97.41%\n"
     ]
    }
   ],
   "source": [
    "print('Test loss:{0:.2f}. Test accuracy:{1:.2f}%'.format(test_loss,test_accuracy*100.))"
   ]
  }
 ],
 "metadata": {
  "kernelspec": {
   "display_name": "Python [conda env:py3-TF2.0]",
   "language": "python",
   "name": "conda-env-py3-TF2.0-py"
  },
  "language_info": {
   "codemirror_mode": {
    "name": "ipython",
    "version": 3
   },
   "file_extension": ".py",
   "mimetype": "text/x-python",
   "name": "python",
   "nbconvert_exporter": "python",
   "pygments_lexer": "ipython3",
   "version": "3.7.7"
  }
 },
 "nbformat": 4,
 "nbformat_minor": 2
}
